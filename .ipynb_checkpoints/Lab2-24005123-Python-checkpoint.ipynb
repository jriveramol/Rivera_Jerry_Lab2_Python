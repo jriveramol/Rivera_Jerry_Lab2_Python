{
 "cells": [
  {
   "cell_type": "markdown",
   "id": "7bf053cc-ed93-4f9f-8f8e-8e9242e1c7d3",
   "metadata": {},
   "source": [
    "# Lab 2 - Python"
   ]
  },
  {
   "cell_type": "markdown",
   "id": "178a31d6-8919-405b-a476-1ba29d58c18b",
   "metadata": {},
   "source": [
    "## Ejercicio 1"
   ]
  },
  {
   "cell_type": "code",
   "execution_count": 45,
   "id": "04a658dc-52bb-452b-bfa9-86f14a6a5391",
   "metadata": {},
   "outputs": [
    {
     "name": "stdout",
     "output_type": "stream",
     "text": [
      "CONVERTIDOR DE SEGUNDOS A FORMATO HH:MM:SS\n",
      "----------------------------------------------------------------------------------------------------\n"
     ]
    },
    {
     "name": "stdin",
     "output_type": "stream",
     "text": [
      "Ingresa la cantidad de segundos o enter para abortar:  45\n"
     ]
    },
    {
     "name": "stdout",
     "output_type": "stream",
     "text": [
      ">> Horas: 0, Minutos: 0, Segundos: 45\n",
      "\n",
      "¿Deseas realizar otra conversión?\n"
     ]
    },
    {
     "name": "stdin",
     "output_type": "stream",
     "text": [
      "Ingresa 'y' si tu respuesta es sí o cualquier otro caracter si tu respuesta es no: y\n"
     ]
    },
    {
     "name": "stdout",
     "output_type": "stream",
     "text": [
      "\n",
      "\n"
     ]
    },
    {
     "name": "stdin",
     "output_type": "stream",
     "text": [
      "Ingresa la cantidad de segundos o enter para abortar:  sdf\n"
     ]
    },
    {
     "name": "stdout",
     "output_type": "stream",
     "text": [
      "El valor ingresado debe ser numérico, no caracteres de texto.\n"
     ]
    },
    {
     "name": "stdin",
     "output_type": "stream",
     "text": [
      "Ingresa la cantidad de segundos o enter para abortar:    \n"
     ]
    },
    {
     "name": "stdout",
     "output_type": "stream",
     "text": [
      "El valor ingresado debe ser numérico, no caracteres de texto.\n"
     ]
    },
    {
     "name": "stdin",
     "output_type": "stream",
     "text": [
      "Ingresa la cantidad de segundos o enter para abortar:  5871\n"
     ]
    },
    {
     "name": "stdout",
     "output_type": "stream",
     "text": [
      ">> Horas: 1, Minutos: 37, Segundos: 51\n",
      "\n",
      "¿Deseas realizar otra conversión?\n"
     ]
    },
    {
     "name": "stdin",
     "output_type": "stream",
     "text": [
      "Ingresa 'y' si tu respuesta es sí o cualquier otro caracter si tu respuesta es no: y\n"
     ]
    },
    {
     "name": "stdout",
     "output_type": "stream",
     "text": [
      "\n",
      "\n"
     ]
    },
    {
     "name": "stdin",
     "output_type": "stream",
     "text": [
      "Ingresa la cantidad de segundos o enter para abortar:  sdf\n"
     ]
    },
    {
     "name": "stdout",
     "output_type": "stream",
     "text": [
      "El valor ingresado debe ser numérico, no caracteres de texto.\n"
     ]
    },
    {
     "name": "stdin",
     "output_type": "stream",
     "text": [
      "Ingresa la cantidad de segundos o enter para abortar:    \n"
     ]
    },
    {
     "name": "stdout",
     "output_type": "stream",
     "text": [
      "El valor ingresado debe ser numérico, no caracteres de texto.\n"
     ]
    },
    {
     "name": "stdin",
     "output_type": "stream",
     "text": [
      "Ingresa la cantidad de segundos o enter para abortar:  sdf\n"
     ]
    },
    {
     "name": "stdout",
     "output_type": "stream",
     "text": [
      "El valor ingresado debe ser numérico, no caracteres de texto.\n"
     ]
    },
    {
     "name": "stdin",
     "output_type": "stream",
     "text": [
      "Ingresa la cantidad de segundos o enter para abortar:  \n"
     ]
    },
    {
     "name": "stdout",
     "output_type": "stream",
     "text": [
      "Operación abortada.\n",
      "----------------------------------------------------------------------------------------------------\n",
      "FIN DE EJECUCIÓN\n"
     ]
    }
   ],
   "source": [
    "print(\"CONVERTIDOR DE SEGUNDOS A FORMATO HH:MM:SS\")\n",
    "print(100*'-')\n",
    "while True:\n",
    "    segs = input(\"Ingresa la cantidad de segundos o enter para abortar: \")\n",
    "    if segs == \"\":\n",
    "        print(\"❌ Operación abortada ❌\")\n",
    "        break\n",
    "    try:\n",
    "        segs = int(segs)\n",
    "        hrs = segs//3600\n",
    "        mnts = segs%3600//60\n",
    "        segs = segs%3600%60%60\n",
    "        print(f\">> Horas: {hrs}, Minutos: {mnts}, Segundos: {segs}\\n\")\n",
    "        print(\"¿Deseas realizar otra conversión?\")\n",
    "        qstn = (input(\"Ingresa 'y' si tu respuesta es sí o cualquier otro caracter si tu respuesta es no:\")\n",
    "                .strip()\n",
    "                .lower()\n",
    "               )\n",
    "        if qstn != 'y':\n",
    "            break\n",
    "        print(\"\\n\")\n",
    "    except ValueError:\n",
    "        print(\"El valor ingresado debe ser numérico, no caracteres de texto.\")\n",
    "print(f\"{100*'-'}\\nFIN DE EJECUCIÓN\")"
   ]
  },
  {
   "cell_type": "markdown",
   "id": "0f86f57f-e4d8-49b4-80b4-bc9b1efcf686",
   "metadata": {},
   "source": [
    "## Ejercicio 2"
   ]
  },
  {
   "cell_type": "code",
   "execution_count": 72,
   "id": "5dba807b-5444-46fa-9e93-16a72db351b8",
   "metadata": {},
   "outputs": [
    {
     "name": "stdout",
     "output_type": "stream",
     "text": [
      "GENERADOS DE TRIÁNGULOS\n",
      "----------------------------------------------------------------------------------------------------\n"
     ]
    },
    {
     "name": "stdin",
     "output_type": "stream",
     "text": [
      "Ingresa un número entero entre 1 y 20 😃 o enter para abortar 😕:  hola\n"
     ]
    },
    {
     "name": "stdout",
     "output_type": "stream",
     "text": [
      "El valor ingresado debe ser numérico, no caracteres de texto 🙄\n",
      "\n"
     ]
    },
    {
     "name": "stdin",
     "output_type": "stream",
     "text": [
      "Ingresa un número entero entre 1 y 20 😃 o enter para abortar 😕:  -1\n"
     ]
    },
    {
     "name": "stdout",
     "output_type": "stream",
     "text": [
      "El número debe estar entre el rango de 1 a 20 😒\n",
      "\n"
     ]
    },
    {
     "name": "stdin",
     "output_type": "stream",
     "text": [
      "Ingresa un número entero entre 1 y 20 😃 o enter para abortar 😕:  0\n"
     ]
    },
    {
     "name": "stdout",
     "output_type": "stream",
     "text": [
      "El número debe estar entre el rango de 1 a 20 😒\n",
      "\n"
     ]
    },
    {
     "name": "stdin",
     "output_type": "stream",
     "text": [
      "Ingresa un número entero entre 1 y 20 😃 o enter para abortar 😕:  34\n"
     ]
    },
    {
     "name": "stdout",
     "output_type": "stream",
     "text": [
      "El número debe estar entre el rango de 1 a 20 😒\n",
      "\n"
     ]
    },
    {
     "name": "stdin",
     "output_type": "stream",
     "text": [
      "Ingresa un número entero entre 1 y 20 😃 o enter para abortar 😕:  10\n",
      "Ingresa un caracter cualquiera para dibujar tus triángulos 😎:  ***\n"
     ]
    },
    {
     "name": "stdout",
     "output_type": "stream",
     "text": [
      "Dije UN caracter! 😠\n",
      "\n",
      "\n",
      "*          **********     **********          *\n",
      "**          *********     *********          **\n",
      "***          ********     ********          ***\n",
      "****          *******     *******          ****\n",
      "*****          ******     ******          *****\n",
      "******          *****     *****          ******\n",
      "*******          ****     ****          *******\n",
      "********          ***     ***          ********\n",
      "*********          **     **          *********\n",
      "**********          *     *          **********\n",
      "\n",
      "MIRA ESA OBRA DE ARTE!🥇\n",
      "\n"
     ]
    },
    {
     "name": "stdin",
     "output_type": "stream",
     "text": [
      "Ingresa un número entero entre 1 y 20 😃 o enter para abortar 😕:  5\n",
      "Ingresa un caracter cualquiera para dibujar tus triángulos 😎:  ?\n"
     ]
    },
    {
     "name": "stdout",
     "output_type": "stream",
     "text": [
      "\n",
      "\n",
      "?     ?????     ?????     ?\n",
      "??     ????     ????     ??\n",
      "???     ???     ???     ???\n",
      "????     ??     ??     ????\n",
      "?????     ?     ?     ?????\n",
      "\n",
      "MIRA ESA OBRA DE ARTE!🥇\n",
      "\n"
     ]
    },
    {
     "name": "stdin",
     "output_type": "stream",
     "text": [
      "Ingresa un número entero entre 1 y 20 😃 o enter para abortar 😕:  20\n",
      "Ingresa un caracter cualquiera para dibujar tus triángulos 😎:  ´´\n"
     ]
    },
    {
     "name": "stdout",
     "output_type": "stream",
     "text": [
      "Dije UN caracter! 😠\n",
      "\n",
      "\n",
      "´                    ´´´´´´´´´´´´´´´´´´´´     ´´´´´´´´´´´´´´´´´´´´                    ´\n",
      "´´                    ´´´´´´´´´´´´´´´´´´´     ´´´´´´´´´´´´´´´´´´´                    ´´\n",
      "´´´                    ´´´´´´´´´´´´´´´´´´     ´´´´´´´´´´´´´´´´´´                    ´´´\n",
      "´´´´                    ´´´´´´´´´´´´´´´´´     ´´´´´´´´´´´´´´´´´                    ´´´´\n",
      "´´´´´                    ´´´´´´´´´´´´´´´´     ´´´´´´´´´´´´´´´´                    ´´´´´\n",
      "´´´´´´                    ´´´´´´´´´´´´´´´     ´´´´´´´´´´´´´´´                    ´´´´´´\n",
      "´´´´´´´                    ´´´´´´´´´´´´´´     ´´´´´´´´´´´´´´                    ´´´´´´´\n",
      "´´´´´´´´                    ´´´´´´´´´´´´´     ´´´´´´´´´´´´´                    ´´´´´´´´\n",
      "´´´´´´´´´                    ´´´´´´´´´´´´     ´´´´´´´´´´´´                    ´´´´´´´´´\n",
      "´´´´´´´´´´                    ´´´´´´´´´´´     ´´´´´´´´´´´                    ´´´´´´´´´´\n",
      "´´´´´´´´´´´                    ´´´´´´´´´´     ´´´´´´´´´´                    ´´´´´´´´´´´\n",
      "´´´´´´´´´´´´                    ´´´´´´´´´     ´´´´´´´´´                    ´´´´´´´´´´´´\n",
      "´´´´´´´´´´´´´                    ´´´´´´´´     ´´´´´´´´                    ´´´´´´´´´´´´´\n",
      "´´´´´´´´´´´´´´                    ´´´´´´´     ´´´´´´´                    ´´´´´´´´´´´´´´\n",
      "´´´´´´´´´´´´´´´                    ´´´´´´     ´´´´´´                    ´´´´´´´´´´´´´´´\n",
      "´´´´´´´´´´´´´´´´                    ´´´´´     ´´´´´                    ´´´´´´´´´´´´´´´´\n",
      "´´´´´´´´´´´´´´´´´                    ´´´´     ´´´´                    ´´´´´´´´´´´´´´´´´\n",
      "´´´´´´´´´´´´´´´´´´                    ´´´     ´´´                    ´´´´´´´´´´´´´´´´´´\n",
      "´´´´´´´´´´´´´´´´´´´                    ´´     ´´                    ´´´´´´´´´´´´´´´´´´´\n",
      "´´´´´´´´´´´´´´´´´´´´                    ´     ´                    ´´´´´´´´´´´´´´´´´´´´\n",
      "\n",
      "MIRA ESA OBRA DE ARTE!🥇\n",
      "\n"
     ]
    },
    {
     "name": "stdin",
     "output_type": "stream",
     "text": [
      "Ingresa un número entero entre 1 y 20 😃 o enter para abortar 😕:  \n"
     ]
    },
    {
     "name": "stdout",
     "output_type": "stream",
     "text": [
      "❌❌❌ Generación abortada ❌❌❌\n",
      "----------------------------------------------------------------------------------------------------\n",
      "FIN DE EJECUCIÓN\n"
     ]
    }
   ],
   "source": [
    "print(\"GENERADOS DE TRIÁNGULOS\")\n",
    "print(100*'-')\n",
    "while True:\n",
    "    n = input(\"Ingresa un número entero entre 1 y 20 😃 o enter para abortar 😕: \")\n",
    "    if n == \"\":\n",
    "        print(\"❌❌❌ Generación abortada ❌❌❌\")\n",
    "        break\n",
    "    try:\n",
    "        n = int(n)\n",
    "        if n<1 or n>20:\n",
    "            print(\"El número debe estar entre el rango de 1 a 20 😒\\n\")\n",
    "            continue\n",
    "    except ValueError:\n",
    "        print(\"El valor ingresado debe ser numérico, no caracteres de texto 🙄\\n\")\n",
    "        continue\n",
    "    while True:\n",
    "        caracter = input(\"Ingresa un caracter cualquiera para dibujar tus triángulos 😎: \")\n",
    "        if caracter == \"\":\n",
    "            print(\"No ingresaste ningún caracter 😑\")\n",
    "            continue\n",
    "        elif caracter == \" \":\n",
    "            print(\"Con un espacio en blanco no dibujaremos nada! 🤪\")\n",
    "            continue\n",
    "        elif len(caracter) > 1:\n",
    "            print(\"Dije UN caracter! 😠\")\n",
    "            caracter = caracter[0]\n",
    "        print(\"\\n\")\n",
    "        for i in range(0,n):\n",
    "            print(f\"{caracter*(i+1)}{' '*n}{caracter*(n-i)}     {caracter*(n-i)}{' '*n}{caracter*(i+1)}\")\n",
    "        print(\"\\nMIRA ESA OBRA DE ARTE!🥇\\n\")\n",
    "        break\n",
    "print(f\"{100*'-'}\\nFIN DE EJECUCIÓN\")"
   ]
  },
  {
   "cell_type": "code",
   "execution_count": null,
   "id": "e9f08ac0-5152-4c63-862c-249453d2d75d",
   "metadata": {},
   "outputs": [],
   "source": []
  }
 ],
 "metadata": {
  "kernelspec": {
   "display_name": "Python 3 (ipykernel)",
   "language": "python",
   "name": "python3"
  },
  "language_info": {
   "codemirror_mode": {
    "name": "ipython",
    "version": 3
   },
   "file_extension": ".py",
   "mimetype": "text/x-python",
   "name": "python",
   "nbconvert_exporter": "python",
   "pygments_lexer": "ipython3",
   "version": "3.8.18"
  }
 },
 "nbformat": 4,
 "nbformat_minor": 5
}
