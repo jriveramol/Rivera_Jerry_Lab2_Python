{
 "cells": [
  {
   "cell_type": "markdown",
   "id": "7bf053cc-ed93-4f9f-8f8e-8e9242e1c7d3",
   "metadata": {},
   "source": [
    "# Lab 2 - Python"
   ]
  },
  {
   "cell_type": "markdown",
   "id": "178a31d6-8919-405b-a476-1ba29d58c18b",
   "metadata": {},
   "source": [
    "## Ejercicio 1"
   ]
  },
  {
   "cell_type": "code",
   "execution_count": 1,
   "id": "04a658dc-52bb-452b-bfa9-86f14a6a5391",
   "metadata": {},
   "outputs": [
    {
     "name": "stdout",
     "output_type": "stream",
     "text": [
      "CONVERTIDOR DE SEGUNDOS A FORMATO HH:MM:SS\n",
      "----------------------------------------------------------------------------------------------------\n"
     ]
    },
    {
     "name": "stdin",
     "output_type": "stream",
     "text": [
      "Ingresa la cantidad de segundos o enter para abortar:   \n"
     ]
    },
    {
     "name": "stdout",
     "output_type": "stream",
     "text": [
      "El valor ingresado debe ser numérico, no caracteres de texto.\n"
     ]
    },
    {
     "name": "stdin",
     "output_type": "stream",
     "text": [
      "Ingresa la cantidad de segundos o enter para abortar:  hola\n"
     ]
    },
    {
     "name": "stdout",
     "output_type": "stream",
     "text": [
      "El valor ingresado debe ser numérico, no caracteres de texto.\n"
     ]
    },
    {
     "name": "stdin",
     "output_type": "stream",
     "text": [
      "Ingresa la cantidad de segundos o enter para abortar:  2743\n"
     ]
    },
    {
     "name": "stdout",
     "output_type": "stream",
     "text": [
      ">> Horas: 0, Minutos: 45, Segundos: 43\n",
      "\n",
      "¿Deseas realizar otra conversión?\n"
     ]
    },
    {
     "name": "stdin",
     "output_type": "stream",
     "text": [
      "Ingresa 'y' si tu respuesta es sí o cualquier otro caracter si tu respuesta es no: y\n"
     ]
    },
    {
     "name": "stdout",
     "output_type": "stream",
     "text": [
      "\n",
      "\n"
     ]
    },
    {
     "name": "stdin",
     "output_type": "stream",
     "text": [
      "Ingresa la cantidad de segundos o enter para abortar:  5871\n"
     ]
    },
    {
     "name": "stdout",
     "output_type": "stream",
     "text": [
      ">> Horas: 1, Minutos: 37, Segundos: 51\n",
      "\n",
      "¿Deseas realizar otra conversión?\n"
     ]
    },
    {
     "name": "stdin",
     "output_type": "stream",
     "text": [
      "Ingresa 'y' si tu respuesta es sí o cualquier otro caracter si tu respuesta es no: n\n"
     ]
    },
    {
     "name": "stdout",
     "output_type": "stream",
     "text": [
      "----------------------------------------------------------------------------------------------------\n",
      "FIN DE EJECUCIÓN\n"
     ]
    }
   ],
   "source": [
    "print(\"CONVERTIDOR DE SEGUNDOS A FORMATO HH:MM:SS\")\n",
    "print(100*'-')\n",
    "while True:\n",
    "    segs = input(\"Ingresa la cantidad de segundos o enter para abortar: \")\n",
    "    if segs == \"\":\n",
    "        print(\"❌ Operación abortada ❌\")\n",
    "        break\n",
    "    try:\n",
    "        segs = int(segs)\n",
    "        hrs = segs//3600\n",
    "        mnts = segs%3600//60\n",
    "        segs = segs%3600%60%60\n",
    "        print(f\">> Horas: {hrs}, Minutos: {mnts}, Segundos: {segs}\\n\")\n",
    "        print(\"¿Deseas realizar otra conversión?\")\n",
    "        qstn = (input(\"Ingresa 'y' si tu respuesta es sí o cualquier otro caracter si tu respuesta es no:\")\n",
    "                .strip()\n",
    "                .lower()\n",
    "               )\n",
    "        if qstn != 'y':\n",
    "            break\n",
    "        print(\"\\n\")\n",
    "    except ValueError:\n",
    "        print(\"El valor ingresado debe ser numérico, no caracteres de texto.\")\n",
    "print(f\"{100*'-'}\\nFIN DE EJECUCIÓN\")"
   ]
  },
  {
   "cell_type": "markdown",
   "id": "0f86f57f-e4d8-49b4-80b4-bc9b1efcf686",
   "metadata": {},
   "source": [
    "## Ejercicio 2"
   ]
  },
  {
   "cell_type": "code",
   "execution_count": 2,
   "id": "5dba807b-5444-46fa-9e93-16a72db351b8",
   "metadata": {},
   "outputs": [
    {
     "name": "stdout",
     "output_type": "stream",
     "text": [
      "GENERADOS DE TRIÁNGULOS\n",
      "----------------------------------------------------------------------------------------------------\n"
     ]
    },
    {
     "name": "stdin",
     "output_type": "stream",
     "text": [
      "Ingresa un número entero entre 1 y 20 😃 o enter para abortar 😕:  21\n"
     ]
    },
    {
     "name": "stdout",
     "output_type": "stream",
     "text": [
      "El número debe estar entre el rango de 1 a 20 😒\n",
      "\n"
     ]
    },
    {
     "name": "stdin",
     "output_type": "stream",
     "text": [
      "Ingresa un número entero entre 1 y 20 😃 o enter para abortar 😕:  0\n"
     ]
    },
    {
     "name": "stdout",
     "output_type": "stream",
     "text": [
      "El número debe estar entre el rango de 1 a 20 😒\n",
      "\n"
     ]
    },
    {
     "name": "stdin",
     "output_type": "stream",
     "text": [
      "Ingresa un número entero entre 1 y 20 😃 o enter para abortar 😕:   \n"
     ]
    },
    {
     "name": "stdout",
     "output_type": "stream",
     "text": [
      "El valor ingresado debe ser numérico, no caracteres de texto 🙄\n",
      "\n"
     ]
    },
    {
     "name": "stdin",
     "output_type": "stream",
     "text": [
      "Ingresa un número entero entre 1 y 20 😃 o enter para abortar 😕:  12\n",
      "Ingresa un caracter cualquiera para dibujar tus triángulos 😎:  **\n"
     ]
    },
    {
     "name": "stdout",
     "output_type": "stream",
     "text": [
      "Dije UN caracter! 😠\n",
      "\n",
      "\n",
      "*            ************     ************            *\n",
      "**            ***********     ***********            **\n",
      "***            **********     **********            ***\n",
      "****            *********     *********            ****\n",
      "*****            ********     ********            *****\n",
      "******            *******     *******            ******\n",
      "*******            ******     ******            *******\n",
      "********            *****     *****            ********\n",
      "*********            ****     ****            *********\n",
      "**********            ***     ***            **********\n",
      "***********            **     **            ***********\n",
      "************            *     *            ************\n",
      "\n",
      "MIRA ESA OBRA DE ARTE!🥇\n",
      "\n"
     ]
    },
    {
     "name": "stdin",
     "output_type": "stream",
     "text": [
      "Ingresa un número entero entre 1 y 20 😃 o enter para abortar 😕:  \n"
     ]
    },
    {
     "name": "stdout",
     "output_type": "stream",
     "text": [
      "❌❌❌ Generación abortada ❌❌❌\n",
      "----------------------------------------------------------------------------------------------------\n",
      "FIN DE EJECUCIÓN\n"
     ]
    }
   ],
   "source": [
    "print(\"GENERADOS DE TRIÁNGULOS\")\n",
    "print(100*'-')\n",
    "while True:\n",
    "    n = input(\"Ingresa un número entero entre 1 y 20 😃 o enter para abortar 😕: \")\n",
    "    if n == \"\":\n",
    "        print(\"❌❌❌ Generación abortada ❌❌❌\")\n",
    "        break\n",
    "    try:\n",
    "        n = int(n)\n",
    "        if n<1 or n>20:\n",
    "            print(\"El número debe estar entre el rango de 1 a 20 😒\\n\")\n",
    "            continue\n",
    "    except ValueError:\n",
    "        print(\"El valor ingresado debe ser numérico, no caracteres de texto 🙄\\n\")\n",
    "        continue\n",
    "    while True:\n",
    "        caracter = input(\"Ingresa un caracter cualquiera para dibujar tus triángulos 😎: \")\n",
    "        if caracter == \"\":\n",
    "            print(\"No ingresaste ningún caracter 😑\")\n",
    "            continue\n",
    "        elif caracter == \" \":\n",
    "            print(\"Con un espacio en blanco no dibujaremos nada! 🤪\")\n",
    "            continue\n",
    "        elif len(caracter) > 1:\n",
    "            print(\"Dije UN caracter! 😠\")\n",
    "            caracter = caracter[0]\n",
    "        print(\"\\n\")\n",
    "        for i in range(0,n):\n",
    "            print(f\"{caracter*(i+1)}{' '*n}{caracter*(n-i)}     {caracter*(n-i)}{' '*n}{caracter*(i+1)}\")\n",
    "        print(\"\\nMIRA ESA OBRA DE ARTE!🥇\\n\")\n",
    "        break\n",
    "print(f\"{100*'-'}\\nFIN DE EJECUCIÓN\")"
   ]
  },
  {
   "cell_type": "markdown",
   "id": "9b4aaf57-2e8a-4759-9119-7111f886e099",
   "metadata": {},
   "source": [
    "## Ejercicio 3"
   ]
  },
  {
   "cell_type": "code",
   "execution_count": 3,
   "id": "2f94db4f-a591-42a5-a4ac-58bf8debfe00",
   "metadata": {},
   "outputs": [],
   "source": [
    "import datetime as dt\n",
    "from dateutil.relativedelta import relativedelta"
   ]
  },
  {
   "cell_type": "code",
   "execution_count": 5,
   "id": "9ead8a8a-45cf-4879-be3a-4b3ce464ca7d",
   "metadata": {},
   "outputs": [
    {
     "name": "stdout",
     "output_type": "stream",
     "text": [
      "EDAD EN AÑOS-MESES-DÍAS\n",
      "----------------------------------------------------------------------------------------------------\n"
     ]
    },
    {
     "name": "stdin",
     "output_type": "stream",
     "text": [
      "Ingresa el año en que naciste:  1800\n"
     ]
    },
    {
     "name": "stdout",
     "output_type": "stream",
     "text": [
      "Debes estar muerto o ser un viajero del tiempo 😨\n",
      "Intenta de nuevo 😅\n",
      "\n"
     ]
    },
    {
     "name": "stdin",
     "output_type": "stream",
     "text": [
      "Ingresa el año en que naciste:  1969\n",
      "Ingresa el mes en que naciste:  13\n"
     ]
    },
    {
     "name": "stdout",
     "output_type": "stream",
     "text": [
      "Ingresa un número de mes válido 😖\n",
      "Intentemos de nuevo 🥴\n",
      "\n"
     ]
    },
    {
     "name": "stdin",
     "output_type": "stream",
     "text": [
      "Ingresa el año en que naciste:  1969\n",
      "Ingresa el mes en que naciste:  5\n",
      "Ingresa el día en que naciste:  32\n"
     ]
    },
    {
     "name": "stdout",
     "output_type": "stream",
     "text": [
      "Ingresa un número de día válido 😓\n",
      "Intentemos de nuevo 😤\n",
      "\n"
     ]
    },
    {
     "name": "stdin",
     "output_type": "stream",
     "text": [
      "Ingresa el año en que naciste:  1969\n",
      "Ingresa el mes en que naciste:  5\n",
      "Ingresa el día en que naciste:  7\n"
     ]
    },
    {
     "name": "stdout",
     "output_type": "stream",
     "text": [
      "\n",
      "Tienes 54 años\n",
      "Que equivalen a 657 meses\n",
      "Que equivalen a 20,012 días\n",
      "\n",
      "Y tu edad exacta es 54 años con 9 meses y 13 días 🤭\n",
      "----------------------------------------------------------------------------------------------------\n",
      "FIN DE EJECUCIÓN\n"
     ]
    }
   ],
   "source": [
    "print(\"EDAD EN AÑOS-MESES-DÍAS\")\n",
    "print(100*'-')\n",
    "fecha_actual = dt.datetime.now()\n",
    "fecha = {'año':None, 'mes':None, 'día':None}\n",
    "flag = False\n",
    "meses = [month for month in range(1,13)]\n",
    "while True:\n",
    "    for key in fecha:\n",
    "        try:\n",
    "            fecha[key] = int(input(f\"Ingresa el {key} en que naciste: \"))\n",
    "            if key == 'año' and (fecha[key]<1900 or fecha[key]>fecha_actual.year):\n",
    "                print(\"Debes estar muerto o ser un viajero del tiempo 😨\\nIntenta de nuevo 😅\\n\")\n",
    "                break\n",
    "            elif key == 'mes' and fecha[key] not in meses:\n",
    "                print(\"Ingresa un número de mes válido 😖\\nIntentemos de nuevo 🥴\\n\")\n",
    "                break\n",
    "            elif key == 'día':\n",
    "                last_day = (dt.date(fecha['año'], fecha['mes'], 1) + relativedelta(months=1) - dt.timedelta(days=1)).day\n",
    "                if fecha[key]<0 or fecha[key]>last_day:\n",
    "                    print(\"Ingresa un número de día válido 😓\\nIntentemos de nuevo 😤\\n\")\n",
    "                    break\n",
    "        except ValueError:\n",
    "            print(f\"El {key} debe ser un número entero 😐. No caracteres de texto.\")\n",
    "            continue\n",
    "    else:\n",
    "        flag = True\n",
    "    if flag:\n",
    "        break\n",
    "\n",
    "fecha_nac = dt.datetime(fecha['año'],fecha['mes'],fecha['día'])\n",
    "delta = relativedelta(fecha_actual,fecha_nac)\n",
    "delta_dias = (fecha_actual -fecha_nac).days\n",
    "print(f\"\\nTienes {delta.years} años\")\n",
    "print(f\"Que equivalen a {(delta.years*12 + delta.months):,} meses\")\n",
    "print(f\"Que equivalen a {delta_dias:,} días\\n\")\n",
    "print(f\"Y tu edad exacta es {delta.years} años con {delta.months} meses y {delta.days} días 🤭\")\n",
    "\n",
    "print(f\"{100*'-'}\\nFIN DE EJECUCIÓN\")"
   ]
  },
  {
   "cell_type": "markdown",
   "id": "b6edee82-a2f8-412d-9d7a-0e2c4414d80a",
   "metadata": {},
   "source": [
    "## Ejercicio 4"
   ]
  },
  {
   "cell_type": "code",
   "execution_count": 6,
   "id": "66037277-2c78-426c-bd91-5366ca371f8c",
   "metadata": {},
   "outputs": [],
   "source": [
    "def tuple2str(tupla):\n",
    "    tipo_dato = type(tupla)\n",
    "    if tipo_dato != type((1,)):\n",
    "        return f\"ERROR - Se debe ingresar un tipo de dato tuple no {tipo_dato}\"\n",
    "    string = \"\"\n",
    "    for elemento in tupla:\n",
    "        string += str(elemento)\n",
    "    return string"
   ]
  },
  {
   "cell_type": "code",
   "execution_count": 7,
   "id": "e01084ab-3d42-4869-95c6-ef65c92b0023",
   "metadata": {},
   "outputs": [
    {
     "data": {
      "text/plain": [
       "'102040570'"
      ]
     },
     "execution_count": 7,
     "metadata": {},
     "output_type": "execute_result"
    }
   ],
   "source": [
    "tuple2str((10,20,40,5,70))"
   ]
  },
  {
   "cell_type": "code",
   "execution_count": 8,
   "id": "6142dcf9-4a28-4dd0-9956-a0cb413cc5a2",
   "metadata": {},
   "outputs": [
    {
     "data": {
      "text/plain": [
       "'102040570'"
      ]
     },
     "execution_count": 8,
     "metadata": {},
     "output_type": "execute_result"
    }
   ],
   "source": [
    "tuple2str((\"10\",\"20\",\"40\",\"5\",\"70\"))"
   ]
  },
  {
   "cell_type": "code",
   "execution_count": 9,
   "id": "303d9326-4642-454c-90ba-8e62ea098251",
   "metadata": {},
   "outputs": [
    {
     "data": {
      "text/plain": [
       "'abc'"
      ]
     },
     "execution_count": 9,
     "metadata": {},
     "output_type": "execute_result"
    }
   ],
   "source": [
    "tuple2str(('a','b','c'))"
   ]
  },
  {
   "cell_type": "code",
   "execution_count": 10,
   "id": "4ce9ca1f-db49-4521-ae3f-a31a661a5f4c",
   "metadata": {},
   "outputs": [
    {
     "data": {
      "text/plain": [
       "\"ERROR - Se debe ingresar un tipo de dato tuple no <class 'str'>\""
      ]
     },
     "execution_count": 10,
     "metadata": {},
     "output_type": "execute_result"
    }
   ],
   "source": [
    "tuple2str(\"hola\")"
   ]
  },
  {
   "cell_type": "markdown",
   "id": "9b25a375-fc2d-4df3-b3f8-3a56ee5353df",
   "metadata": {},
   "source": [
    "## Ejercicio 5"
   ]
  },
  {
   "cell_type": "code",
   "execution_count": 11,
   "id": "0b9cec50-f845-4357-a1e3-efc661a5b3da",
   "metadata": {},
   "outputs": [
    {
     "data": {
      "text/plain": [
       "[('X',),\n",
       " ('a', 'b'),\n",
       " ('a', 'b', 'c'),\n",
       " ('d',),\n",
       " (1, 2, 3),\n",
       " ('p', 'y', 't', 'h', 'o', 'n')]"
      ]
     },
     "execution_count": 11,
     "metadata": {},
     "output_type": "execute_result"
    }
   ],
   "source": [
    "tuple_list = [(), (), ('X',), ('a', 'b'), ('a', 'b', 'c'), ('d',), (), (1,2,3), ('p','y','t','h','o','n')]\n",
    "tuple_res = [tupla for tupla in tuple_list if len(tupla)!=0]\n",
    "tuple_res"
   ]
  },
  {
   "cell_type": "markdown",
   "id": "24e2e43c-2f17-40d3-967d-c9e38c0ab7d4",
   "metadata": {},
   "source": [
    "## Ejercicio 6"
   ]
  },
  {
   "cell_type": "code",
   "execution_count": 12,
   "id": "4748231a-a0a7-4421-9571-116af6366ccc",
   "metadata": {},
   "outputs": [],
   "source": [
    "import numpy as np"
   ]
  },
  {
   "cell_type": "code",
   "execution_count": 13,
   "id": "a33e00b8-8eb3-460d-8cad-094fc449bfe1",
   "metadata": {},
   "outputs": [],
   "source": [
    "def tuple2tupleProm(tupla):\n",
    "    tipos_dato = [type(element) == type((1,)) for element in tupla]\n",
    "    if False in tipos_dato:\n",
    "        return f\"ERROR - Se espera que todos los elementos sean de tipo tuple\"\n",
    "    tipos_dato = [type(item) in (type(1),type(1.0)) for element in tupla for item in element] \n",
    "    if False in tipos_dato:\n",
    "        return f\"ERROR - Se espera que todos los elementos dentro de cada tupla sean de tipo numéricos\"\n",
    "    tuple_res = tuple([np.array(tupl, dtype='int').mean() for tupl in tupla])\n",
    "    return tuple_res    "
   ]
  },
  {
   "cell_type": "code",
   "execution_count": 14,
   "id": "b4d589f6-b484-4622-8d76-4f844f38424a",
   "metadata": {},
   "outputs": [],
   "source": [
    "tuple_tuple =  ((10, 10, 10, 12), (30, 45, 56, 45), (81, 80, 39, 32), (4,))"
   ]
  },
  {
   "cell_type": "code",
   "execution_count": 15,
   "id": "5837066e-3952-4a96-a676-61278434c25a",
   "metadata": {},
   "outputs": [
    {
     "data": {
      "text/plain": [
       "(10.5, 44.0, 58.0, 4.0)"
      ]
     },
     "execution_count": 15,
     "metadata": {},
     "output_type": "execute_result"
    }
   ],
   "source": [
    "tuple2tupleProm(tuple_tuple)"
   ]
  },
  {
   "cell_type": "code",
   "execution_count": 16,
   "id": "e58616db-39e5-4ad1-8605-6a2a4fc04dd5",
   "metadata": {},
   "outputs": [
    {
     "data": {
      "text/plain": [
       "'ERROR - Se espera que todos los elementos sean de tipo tuple'"
      ]
     },
     "execution_count": 16,
     "metadata": {},
     "output_type": "execute_result"
    }
   ],
   "source": [
    "tuple2tupleProm((1,2,3))"
   ]
  },
  {
   "cell_type": "code",
   "execution_count": 17,
   "id": "32e65b02-ce8a-4fb8-a9b1-03d99ddecce8",
   "metadata": {},
   "outputs": [
    {
     "data": {
      "text/plain": [
       "'ERROR - Se espera que todos los elementos dentro de cada tupla sean de tipo numéricos'"
      ]
     },
     "execution_count": 17,
     "metadata": {},
     "output_type": "execute_result"
    }
   ],
   "source": [
    "tuple2tupleProm(((\"1\",2,3),(23,45,2)))"
   ]
  },
  {
   "cell_type": "markdown",
   "id": "38ecec07-01af-4a84-a933-c667b6f2a4d8",
   "metadata": {},
   "source": [
    "## Ejercicio 7"
   ]
  },
  {
   "cell_type": "code",
   "execution_count": 29,
   "id": "be1c254e-c020-4021-8cae-4a50a04416fd",
   "metadata": {},
   "outputs": [],
   "source": [
    "facturas = {1234:120,\n",
    "            2345:356,\n",
    "            9876:156,\n",
    "            3476:8761\n",
    "           }\n",
    "monto_cobrado_acum = 0 "
   ]
  },
  {
   "cell_type": "code",
   "execution_count": 50,
   "id": "884e1ca6-8bc2-4cea-abdb-11d6d5caa0a2",
   "metadata": {},
   "outputs": [
    {
     "name": "stdout",
     "output_type": "stream",
     "text": [
      "GESTOR DE FACTURAS PENDIENTES DE COBRO\n",
      "----------------------------------------------------------------------------------------------------\n",
      "Bienvenido\n",
      "\n",
      "Menú de opciones:\n",
      "1. Añadir factura\n",
      "2. Pagar factura\n",
      "3. Salir del gestor\n"
     ]
    },
    {
     "name": "stdin",
     "output_type": "stream",
     "text": [
      "\n",
      ">> Por favor ingrese el número de la acción que desea realizar:  1\n"
     ]
    },
    {
     "name": "stdout",
     "output_type": "stream",
     "text": [
      "AÑADIR FACTURA\n",
      "------------------------------------------------------------\n"
     ]
    },
    {
     "name": "stdin",
     "output_type": "stream",
     "text": [
      ">> Ingrese el número de factura:  4444\n",
      "Ingrese el coste de la factura (sin comas para los miles):  120\n"
     ]
    },
    {
     "name": "stdout",
     "output_type": "stream",
     "text": [
      "\n",
      "\n",
      "✅ Factura No. 4444 añadida con éxito\n",
      "\n",
      "Factura No. 5643 - Coste: Q12,000.00\n",
      "Factura No. 4444 - Coste: Q120.00\n",
      "----------------------------------------\n",
      "\n"
     ]
    },
    {
     "name": "stdin",
     "output_type": "stream",
     "text": [
      "\n",
      ">> Por favor ingrese el número de la acción que desea realizar:  2\n"
     ]
    },
    {
     "name": "stdout",
     "output_type": "stream",
     "text": [
      "PAGAR FACTURA\n",
      "------------------------------------------------------------\n"
     ]
    },
    {
     "name": "stdin",
     "output_type": "stream",
     "text": [
      ">> Ingrese el número de factura:  5643\n"
     ]
    },
    {
     "name": "stdout",
     "output_type": "stream",
     "text": [
      "\n",
      "✅ Factura No. 5643 pagada con éxito.\n",
      "✅ Monto cancelado: Q12,000.00\n",
      "\n",
      "21-02-2024 [00:33:30] - Total cobrado: Q88,587.56\n",
      "21-02-2024 [00:33:30] - Total pendiente: Q120.00\n",
      "\n",
      "Detalle\n",
      "Factura No. 4444 - Coste: Q120.00\n",
      "----------------------------------------\n",
      "Total                     Q120.00\n",
      "\n"
     ]
    },
    {
     "name": "stdin",
     "output_type": "stream",
     "text": [
      "\n",
      ">> Por favor ingrese el número de la acción que desea realizar:  2\n"
     ]
    },
    {
     "name": "stdout",
     "output_type": "stream",
     "text": [
      "PAGAR FACTURA\n",
      "------------------------------------------------------------\n"
     ]
    },
    {
     "name": "stdin",
     "output_type": "stream",
     "text": [
      ">> Ingrese el número de factura:  4444\n"
     ]
    },
    {
     "name": "stdout",
     "output_type": "stream",
     "text": [
      "\n",
      "✅ Factura No. 4444 pagada con éxito.\n",
      "✅ Monto cancelado: Q120.00\n",
      "\n",
      "21-02-2024 [00:33:37] - Total cobrado: Q88,707.56\n",
      "21-02-2024 [00:33:37] - Total pendiente: Q0.00\n",
      "\n",
      "Detalle\n",
      "----------------------------------------\n",
      "Total                     Q0.00\n",
      "\n"
     ]
    },
    {
     "name": "stdin",
     "output_type": "stream",
     "text": [
      "\n",
      ">> Por favor ingrese el número de la acción que desea realizar:  2\n"
     ]
    },
    {
     "name": "stdout",
     "output_type": "stream",
     "text": [
      "PAGAR FACTURA\n",
      "------------------------------------------------------------\n",
      "🟠 NO EXISTEN FACTURAS PENDIENTES DE COBRO.\n"
     ]
    },
    {
     "name": "stdin",
     "output_type": "stream",
     "text": [
      "\n",
      ">> Por favor ingrese el número de la acción que desea realizar:  4\n"
     ]
    },
    {
     "name": "stdout",
     "output_type": "stream",
     "text": [
      "[ERROR]❗❗ - Por favor ingrese una opción válida.\n"
     ]
    },
    {
     "name": "stdin",
     "output_type": "stream",
     "text": [
      "\n",
      ">> Por favor ingrese el número de la acción que desea realizar:  5\n"
     ]
    },
    {
     "name": "stdout",
     "output_type": "stream",
     "text": [
      "[ERROR]❗❗ - Por favor ingrese una opción válida.\n"
     ]
    },
    {
     "name": "stdin",
     "output_type": "stream",
     "text": [
      "\n",
      ">> Por favor ingrese el número de la acción que desea realizar:  salir\n"
     ]
    },
    {
     "name": "stdout",
     "output_type": "stream",
     "text": [
      "[ERROR]❗❗ - Se debe ingresar un número. No se admiten caracteres de texto.\n"
     ]
    },
    {
     "name": "stdin",
     "output_type": "stream",
     "text": [
      "\n",
      ">> Por favor ingrese el número de la acción que desea realizar:  3\n"
     ]
    },
    {
     "name": "stdout",
     "output_type": "stream",
     "text": [
      "SALIR\n",
      "----------------------------------------------------------------------------------------------------\n",
      "GESTOR FINALIZADO\n"
     ]
    }
   ],
   "source": [
    "print(\"GESTOR DE FACTURAS PENDIENTES DE COBRO\")\n",
    "print(100*'-')\n",
    "print(\"Bienvenido\\n\")\n",
    "print(\"Menú de opciones:\\n1. Añadir factura\\n2. Pagar factura\\n3. Salir del gestor\")\n",
    "while True:\n",
    "    try:\n",
    "        qstn = int(input(\"\\n>> Por favor ingrese el número de la acción que desea realizar: \"))\n",
    "    except ValueError:\n",
    "        print(\"[ERROR]❗❗ - Se debe ingresar un número. No se admiten caracteres de texto.\")\n",
    "        continue\n",
    "\n",
    "    if qstn == 1:\n",
    "        print(\"AÑADIR FACTURA\")\n",
    "        print(60*\"-\")\n",
    "        while True:\n",
    "            try:\n",
    "                no_fac = int(input(\">> Ingrese el número de factura: \"))\n",
    "            except ValueError:\n",
    "                print(\"[ERROR]❗❗ - El número de factura debe ser un dato numérico.\")\n",
    "                continue\n",
    "            if len(str(no_fac)) != 4:\n",
    "                print(\"[ERROR]❗❗ - El número de factura debe ser de longitud 4.\")\n",
    "                continue\n",
    "            if no_fac in list(facturas.keys()):\n",
    "                print(f\"[ERROR]❗❗ - Ya existe la factura No. {no_fac}. Verifique la información.\")\n",
    "                continue\n",
    "            while True:\n",
    "                try:\n",
    "                    coste_fac = float(input(\"Ingrese el coste de la factura (sin comas para los miles): \"))\n",
    "                except ValueError:\n",
    "                    print(\"El coste de la factura debe ser un dato numérico.\")\n",
    "                    continue\n",
    "                print(\"\\n\")\n",
    "                break\n",
    "            break\n",
    "        facturas[no_fac] = coste_fac\n",
    "        print(f\"✅ Factura No. {no_fac} añadida con éxito\\n\")\n",
    "        for key, val in facturas.items():\n",
    "            print(f\"Factura No. {key} - Coste: Q{val:,.2f}\")\n",
    "        print(f'{40*\"-\"}\\n')\n",
    "    elif qstn == 2:\n",
    "        print(\"PAGAR FACTURA\")\n",
    "        print(60*\"-\")\n",
    "        if len(facturas) == 0:\n",
    "            print(\"🟠 NO EXISTEN FACTURAS PENDIENTES DE COBRO.\")\n",
    "            continue\n",
    "        while True:\n",
    "            try:\n",
    "                no_fac = int(input(\">> Ingrese el número de factura: \"))\n",
    "            except ValueError:\n",
    "                print(\"[ERROR]❗❗ - El número de factura debe ser un dato numérico.\")\n",
    "                continue\n",
    "            if len(str(no_fac)) != 4:\n",
    "                print(\"[ERROR]❗❗ - El número de factura debe ser de longitud 4.\")\n",
    "                continue\n",
    "            if no_fac not in list(facturas.keys()):\n",
    "                print(f\"[ERROR]❗❗ - No existe la factura No. {no_fac} en la base de datos. Verifique la información.\")\n",
    "                continue\n",
    "            monto_can = facturas[no_fac]\n",
    "            facturas.pop(no_fac)\n",
    "            print(f\"\\n✅ Factura No. {no_fac} pagada con éxito.\")\n",
    "            print(f\"✅ Monto cancelado: Q{monto_can:,.2f}\\n\")\n",
    "            monto_cobrado_acum += monto_can\n",
    "            print(f\"{dt.datetime.now().strftime('%d-%m-%Y [%H:%M:%S]')} - Total cobrado: Q{monto_cobrado_acum:,.2f}\")\n",
    "            total_pend = np.array(list(facturas.values())).sum()\n",
    "            print(f\"{dt.datetime.now().strftime('%d-%m-%Y [%H:%M:%S]')} - Total pendiente: Q{total_pend:,.2f}\\n\")\n",
    "            print(\"Detalle\")\n",
    "            for key, val in facturas.items():\n",
    "                print(f\"Factura No. {key} - Coste: Q{val:,.2f}\")\n",
    "            print(40*\"-\")\n",
    "            print(f\"Total                     Q{total_pend:,.2f}\\n\")\n",
    "            break\n",
    "    elif qstn == 3:\n",
    "        print(\"SALIR\")\n",
    "        print(100*'-')\n",
    "        print(\"GESTOR FINALIZADO\")\n",
    "        break\n",
    "    else:\n",
    "        print(\"[ERROR]❗❗ - Por favor ingrese una opción válida.\")"
   ]
  },
  {
   "cell_type": "code",
   "execution_count": 47,
   "id": "c184dcb4-a762-473e-b6ca-d404acf243f3",
   "metadata": {},
   "outputs": [
    {
     "name": "stderr",
     "output_type": "stream",
     "text": [
      "warning: in the working copy of '.ipynb_checkpoints/Lab2-24005123-Python-checkpoint.ipynb', LF will be replaced by CRLF the next time Git touches it\n",
      "warning: in the working copy of 'Lab2-24005123-Python.ipynb', LF will be replaced by CRLF the next time Git touches it\n"
     ]
    }
   ],
   "source": [
    "!git add ."
   ]
  },
  {
   "cell_type": "code",
   "execution_count": 48,
   "id": "465fa878-c7ca-42eb-aeb9-208470323fd4",
   "metadata": {},
   "outputs": [
    {
     "name": "stdout",
     "output_type": "stream",
     "text": [
      "[ftr/updates be8ee1e] Ejercicio 7\n",
      " 2 files changed, 940 insertions(+), 315 deletions(-)\n"
     ]
    }
   ],
   "source": [
    "!git commit -m \"Ejercicio 7\""
   ]
  },
  {
   "cell_type": "code",
   "execution_count": 49,
   "id": "5b103e39-4884-4284-9583-5c4b3f4bc951",
   "metadata": {},
   "outputs": [
    {
     "name": "stderr",
     "output_type": "stream",
     "text": [
      "To https://github.com/jriveramol/Rivera_Jerry_Lab2_Python.git\n",
      "   8bda9b3..be8ee1e  ftr/updates -> ftr/updates\n"
     ]
    }
   ],
   "source": [
    "!git push"
   ]
  },
  {
   "cell_type": "raw",
   "id": "55e02d3e-12fe-40f3-b841-e7e5a1c2d91e",
   "metadata": {},
   "source": [
    "!git reset --soft HEAD~1"
   ]
  },
  {
   "cell_type": "code",
   "execution_count": null,
   "id": "3cb42dd9-db2b-451d-839b-fc259d46f74d",
   "metadata": {},
   "outputs": [],
   "source": []
  }
 ],
 "metadata": {
  "kernelspec": {
   "display_name": "Python 3 (ipykernel)",
   "language": "python",
   "name": "python3"
  },
  "language_info": {
   "codemirror_mode": {
    "name": "ipython",
    "version": 3
   },
   "file_extension": ".py",
   "mimetype": "text/x-python",
   "name": "python",
   "nbconvert_exporter": "python",
   "pygments_lexer": "ipython3",
   "version": "3.8.18"
  }
 },
 "nbformat": 4,
 "nbformat_minor": 5
}
