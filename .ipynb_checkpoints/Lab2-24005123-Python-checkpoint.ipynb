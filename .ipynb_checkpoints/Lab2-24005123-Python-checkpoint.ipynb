{
 "cells": [
  {
   "cell_type": "markdown",
   "id": "7bf053cc-ed93-4f9f-8f8e-8e9242e1c7d3",
   "metadata": {},
   "source": [
    "# Lab 2 - Python"
   ]
  },
  {
   "cell_type": "markdown",
   "id": "178a31d6-8919-405b-a476-1ba29d58c18b",
   "metadata": {},
   "source": [
    "## Ejercicio 1"
   ]
  },
  {
   "cell_type": "code",
   "execution_count": 80,
   "id": "04a658dc-52bb-452b-bfa9-86f14a6a5391",
   "metadata": {},
   "outputs": [
    {
     "name": "stdout",
     "output_type": "stream",
     "text": [
      "CONVERTIDOR DE SEGUNDOS A FORMATO HH:MM:SS\n",
      "----------------------------------------------------------------------------------------------------\n"
     ]
    },
    {
     "name": "stdin",
     "output_type": "stream",
     "text": [
      "Ingresa la cantidad de segundos o enter para abortar:  hola\n"
     ]
    },
    {
     "name": "stdout",
     "output_type": "stream",
     "text": [
      "El valor ingresado debe ser numérico, no caracteres de texto.\n"
     ]
    },
    {
     "name": "stdin",
     "output_type": "stream",
     "text": [
      "Ingresa la cantidad de segundos o enter para abortar:  2743\n"
     ]
    },
    {
     "name": "stdout",
     "output_type": "stream",
     "text": [
      ">> Horas: 0, Minutos: 45, Segundos: 43\n",
      "\n",
      "¿Deseas realizar otra conversión?\n"
     ]
    },
    {
     "name": "stdin",
     "output_type": "stream",
     "text": [
      "Ingresa 'y' si tu respuesta es sí o cualquier otro caracter si tu respuesta es no: y\n"
     ]
    },
    {
     "name": "stdout",
     "output_type": "stream",
     "text": [
      "\n",
      "\n"
     ]
    },
    {
     "name": "stdin",
     "output_type": "stream",
     "text": [
      "Ingresa la cantidad de segundos o enter para abortar:  5871\n"
     ]
    },
    {
     "name": "stdout",
     "output_type": "stream",
     "text": [
      ">> Horas: 1, Minutos: 37, Segundos: 51\n",
      "\n",
      "¿Deseas realizar otra conversión?\n"
     ]
    },
    {
     "name": "stdin",
     "output_type": "stream",
     "text": [
      "Ingresa 'y' si tu respuesta es sí o cualquier otro caracter si tu respuesta es no: y\n"
     ]
    },
    {
     "name": "stdout",
     "output_type": "stream",
     "text": [
      "\n",
      "\n"
     ]
    },
    {
     "name": "stdin",
     "output_type": "stream",
     "text": [
      "Ingresa la cantidad de segundos o enter para abortar:  1233456\n"
     ]
    },
    {
     "name": "stdout",
     "output_type": "stream",
     "text": [
      ">> Horas: 342, Minutos: 37, Segundos: 36\n",
      "\n",
      "¿Deseas realizar otra conversión?\n"
     ]
    },
    {
     "name": "stdin",
     "output_type": "stream",
     "text": [
      "Ingresa 'y' si tu respuesta es sí o cualquier otro caracter si tu respuesta es no: \n"
     ]
    },
    {
     "name": "stdout",
     "output_type": "stream",
     "text": [
      "----------------------------------------------------------------------------------------------------\n",
      "FIN DE EJECUCIÓN\n"
     ]
    }
   ],
   "source": [
    "print(\"CONVERTIDOR DE SEGUNDOS A FORMATO HH:MM:SS\")\n",
    "print(100*'-')\n",
    "while True:\n",
    "    segs = input(\"Ingresa la cantidad de segundos o enter para abortar: \")\n",
    "    if segs == \"\":\n",
    "        print(\"❌ Operación abortada ❌\")\n",
    "        break\n",
    "    try:\n",
    "        segs = int(segs)\n",
    "        hrs = segs//3600\n",
    "        mnts = segs%3600//60\n",
    "        segs = segs%3600%60%60\n",
    "        print(f\">> Horas: {hrs}, Minutos: {mnts}, Segundos: {segs}\\n\")\n",
    "        print(\"¿Deseas realizar otra conversión?\")\n",
    "        qstn = (input(\"Ingresa 'y' si tu respuesta es sí o cualquier otro caracter si tu respuesta es no:\")\n",
    "                .strip()\n",
    "                .lower()\n",
    "               )\n",
    "        if qstn != 'y':\n",
    "            break\n",
    "        print(\"\\n\")\n",
    "    except ValueError:\n",
    "        print(\"El valor ingresado debe ser numérico, no caracteres de texto.\")\n",
    "print(f\"{100*'-'}\\nFIN DE EJECUCIÓN\")"
   ]
  },
  {
   "cell_type": "markdown",
   "id": "0f86f57f-e4d8-49b4-80b4-bc9b1efcf686",
   "metadata": {},
   "source": [
    "## Ejercicio 2"
   ]
  },
  {
   "cell_type": "code",
   "execution_count": 72,
   "id": "5dba807b-5444-46fa-9e93-16a72db351b8",
   "metadata": {},
   "outputs": [
    {
     "name": "stdout",
     "output_type": "stream",
     "text": [
      "GENERADOS DE TRIÁNGULOS\n",
      "----------------------------------------------------------------------------------------------------\n"
     ]
    },
    {
     "name": "stdin",
     "output_type": "stream",
     "text": [
      "Ingresa un número entero entre 1 y 20 😃 o enter para abortar 😕:  hola\n"
     ]
    },
    {
     "name": "stdout",
     "output_type": "stream",
     "text": [
      "El valor ingresado debe ser numérico, no caracteres de texto 🙄\n",
      "\n"
     ]
    },
    {
     "name": "stdin",
     "output_type": "stream",
     "text": [
      "Ingresa un número entero entre 1 y 20 😃 o enter para abortar 😕:  -1\n"
     ]
    },
    {
     "name": "stdout",
     "output_type": "stream",
     "text": [
      "El número debe estar entre el rango de 1 a 20 😒\n",
      "\n"
     ]
    },
    {
     "name": "stdin",
     "output_type": "stream",
     "text": [
      "Ingresa un número entero entre 1 y 20 😃 o enter para abortar 😕:  0\n"
     ]
    },
    {
     "name": "stdout",
     "output_type": "stream",
     "text": [
      "El número debe estar entre el rango de 1 a 20 😒\n",
      "\n"
     ]
    },
    {
     "name": "stdin",
     "output_type": "stream",
     "text": [
      "Ingresa un número entero entre 1 y 20 😃 o enter para abortar 😕:  34\n"
     ]
    },
    {
     "name": "stdout",
     "output_type": "stream",
     "text": [
      "El número debe estar entre el rango de 1 a 20 😒\n",
      "\n"
     ]
    },
    {
     "name": "stdin",
     "output_type": "stream",
     "text": [
      "Ingresa un número entero entre 1 y 20 😃 o enter para abortar 😕:  10\n",
      "Ingresa un caracter cualquiera para dibujar tus triángulos 😎:  ***\n"
     ]
    },
    {
     "name": "stdout",
     "output_type": "stream",
     "text": [
      "Dije UN caracter! 😠\n",
      "\n",
      "\n",
      "*          **********     **********          *\n",
      "**          *********     *********          **\n",
      "***          ********     ********          ***\n",
      "****          *******     *******          ****\n",
      "*****          ******     ******          *****\n",
      "******          *****     *****          ******\n",
      "*******          ****     ****          *******\n",
      "********          ***     ***          ********\n",
      "*********          **     **          *********\n",
      "**********          *     *          **********\n",
      "\n",
      "MIRA ESA OBRA DE ARTE!🥇\n",
      "\n"
     ]
    },
    {
     "name": "stdin",
     "output_type": "stream",
     "text": [
      "Ingresa un número entero entre 1 y 20 😃 o enter para abortar 😕:  5\n",
      "Ingresa un caracter cualquiera para dibujar tus triángulos 😎:  ?\n"
     ]
    },
    {
     "name": "stdout",
     "output_type": "stream",
     "text": [
      "\n",
      "\n",
      "?     ?????     ?????     ?\n",
      "??     ????     ????     ??\n",
      "???     ???     ???     ???\n",
      "????     ??     ??     ????\n",
      "?????     ?     ?     ?????\n",
      "\n",
      "MIRA ESA OBRA DE ARTE!🥇\n",
      "\n"
     ]
    },
    {
     "name": "stdin",
     "output_type": "stream",
     "text": [
      "Ingresa un número entero entre 1 y 20 😃 o enter para abortar 😕:  20\n",
      "Ingresa un caracter cualquiera para dibujar tus triángulos 😎:  ´´\n"
     ]
    },
    {
     "name": "stdout",
     "output_type": "stream",
     "text": [
      "Dije UN caracter! 😠\n",
      "\n",
      "\n",
      "´                    ´´´´´´´´´´´´´´´´´´´´     ´´´´´´´´´´´´´´´´´´´´                    ´\n",
      "´´                    ´´´´´´´´´´´´´´´´´´´     ´´´´´´´´´´´´´´´´´´´                    ´´\n",
      "´´´                    ´´´´´´´´´´´´´´´´´´     ´´´´´´´´´´´´´´´´´´                    ´´´\n",
      "´´´´                    ´´´´´´´´´´´´´´´´´     ´´´´´´´´´´´´´´´´´                    ´´´´\n",
      "´´´´´                    ´´´´´´´´´´´´´´´´     ´´´´´´´´´´´´´´´´                    ´´´´´\n",
      "´´´´´´                    ´´´´´´´´´´´´´´´     ´´´´´´´´´´´´´´´                    ´´´´´´\n",
      "´´´´´´´                    ´´´´´´´´´´´´´´     ´´´´´´´´´´´´´´                    ´´´´´´´\n",
      "´´´´´´´´                    ´´´´´´´´´´´´´     ´´´´´´´´´´´´´                    ´´´´´´´´\n",
      "´´´´´´´´´                    ´´´´´´´´´´´´     ´´´´´´´´´´´´                    ´´´´´´´´´\n",
      "´´´´´´´´´´                    ´´´´´´´´´´´     ´´´´´´´´´´´                    ´´´´´´´´´´\n",
      "´´´´´´´´´´´                    ´´´´´´´´´´     ´´´´´´´´´´                    ´´´´´´´´´´´\n",
      "´´´´´´´´´´´´                    ´´´´´´´´´     ´´´´´´´´´                    ´´´´´´´´´´´´\n",
      "´´´´´´´´´´´´´                    ´´´´´´´´     ´´´´´´´´                    ´´´´´´´´´´´´´\n",
      "´´´´´´´´´´´´´´                    ´´´´´´´     ´´´´´´´                    ´´´´´´´´´´´´´´\n",
      "´´´´´´´´´´´´´´´                    ´´´´´´     ´´´´´´                    ´´´´´´´´´´´´´´´\n",
      "´´´´´´´´´´´´´´´´                    ´´´´´     ´´´´´                    ´´´´´´´´´´´´´´´´\n",
      "´´´´´´´´´´´´´´´´´                    ´´´´     ´´´´                    ´´´´´´´´´´´´´´´´´\n",
      "´´´´´´´´´´´´´´´´´´                    ´´´     ´´´                    ´´´´´´´´´´´´´´´´´´\n",
      "´´´´´´´´´´´´´´´´´´´                    ´´     ´´                    ´´´´´´´´´´´´´´´´´´´\n",
      "´´´´´´´´´´´´´´´´´´´´                    ´     ´                    ´´´´´´´´´´´´´´´´´´´´\n",
      "\n",
      "MIRA ESA OBRA DE ARTE!🥇\n",
      "\n"
     ]
    },
    {
     "name": "stdin",
     "output_type": "stream",
     "text": [
      "Ingresa un número entero entre 1 y 20 😃 o enter para abortar 😕:  \n"
     ]
    },
    {
     "name": "stdout",
     "output_type": "stream",
     "text": [
      "❌❌❌ Generación abortada ❌❌❌\n",
      "----------------------------------------------------------------------------------------------------\n",
      "FIN DE EJECUCIÓN\n"
     ]
    }
   ],
   "source": [
    "print(\"GENERADOS DE TRIÁNGULOS\")\n",
    "print(100*'-')\n",
    "while True:\n",
    "    n = input(\"Ingresa un número entero entre 1 y 20 😃 o enter para abortar 😕: \")\n",
    "    if n == \"\":\n",
    "        print(\"❌❌❌ Generación abortada ❌❌❌\")\n",
    "        break\n",
    "    try:\n",
    "        n = int(n)\n",
    "        if n<1 or n>20:\n",
    "            print(\"El número debe estar entre el rango de 1 a 20 😒\\n\")\n",
    "            continue\n",
    "    except ValueError:\n",
    "        print(\"El valor ingresado debe ser numérico, no caracteres de texto 🙄\\n\")\n",
    "        continue\n",
    "    while True:\n",
    "        caracter = input(\"Ingresa un caracter cualquiera para dibujar tus triángulos 😎: \")\n",
    "        if caracter == \"\":\n",
    "            print(\"No ingresaste ningún caracter 😑\")\n",
    "            continue\n",
    "        elif caracter == \" \":\n",
    "            print(\"Con un espacio en blanco no dibujaremos nada! 🤪\")\n",
    "            continue\n",
    "        elif len(caracter) > 1:\n",
    "            print(\"Dije UN caracter! 😠\")\n",
    "            caracter = caracter[0]\n",
    "        print(\"\\n\")\n",
    "        for i in range(0,n):\n",
    "            print(f\"{caracter*(i+1)}{' '*n}{caracter*(n-i)}     {caracter*(n-i)}{' '*n}{caracter*(i+1)}\")\n",
    "        print(\"\\nMIRA ESA OBRA DE ARTE!🥇\\n\")\n",
    "        break\n",
    "print(f\"{100*'-'}\\nFIN DE EJECUCIÓN\")"
   ]
  },
  {
   "cell_type": "markdown",
   "id": "9b4aaf57-2e8a-4759-9119-7111f886e099",
   "metadata": {},
   "source": [
    "## Ejercicio 3"
   ]
  },
  {
   "cell_type": "code",
   "execution_count": 106,
   "id": "2f94db4f-a591-42a5-a4ac-58bf8debfe00",
   "metadata": {},
   "outputs": [],
   "source": [
    "import datetime as dt\n",
    "from dateutil.relativedelta import relativedelta"
   ]
  },
  {
   "cell_type": "code",
   "execution_count": 156,
   "id": "9ead8a8a-45cf-4879-be3a-4b3ce464ca7d",
   "metadata": {},
   "outputs": [
    {
     "name": "stdout",
     "output_type": "stream",
     "text": [
      "EDAD EN AÑOS-MESES-DÍAS\n",
      "----------------------------------------------------------------------------------------------------\n"
     ]
    },
    {
     "name": "stdin",
     "output_type": "stream",
     "text": [
      "Ingresa el año en que naciste:  1\n"
     ]
    },
    {
     "name": "stdout",
     "output_type": "stream",
     "text": [
      "Debes estar muerto o ser un viajero del tiempo 😨\n",
      "Intenta de nuevo 😅\n",
      "\n"
     ]
    },
    {
     "name": "stdin",
     "output_type": "stream",
     "text": [
      "Ingresa el año en que naciste:  1969\n",
      "Ingresa el mes en que naciste:  13\n"
     ]
    },
    {
     "name": "stdout",
     "output_type": "stream",
     "text": [
      "Ingresa un número de mes válido 😖\n",
      "Intentemos de nuevo 🥴\n",
      "\n"
     ]
    },
    {
     "name": "stdin",
     "output_type": "stream",
     "text": [
      "Ingresa el año en que naciste:  1969\n",
      "Ingresa el mes en que naciste:  5\n",
      "Ingresa el día en que naciste:  -4\n"
     ]
    },
    {
     "name": "stdout",
     "output_type": "stream",
     "text": [
      "Ingresa un número de día válido 😓\n",
      "Intentemos de nuevo 😤\n",
      "\n"
     ]
    },
    {
     "name": "stdin",
     "output_type": "stream",
     "text": [
      "Ingresa el año en que naciste:  1969\n",
      "Ingresa el mes en que naciste:  5\n",
      "Ingresa el día en que naciste:  7\n"
     ]
    },
    {
     "name": "stdout",
     "output_type": "stream",
     "text": [
      "\n",
      "Tienes 54 años\n",
      "Que equivalen a 657 meses\n",
      "Que equivalen a 20,012 días\n",
      "\n",
      "Y tu edad exacta es 54 años con 9 meses y 13 días 🤭\n",
      "----------------------------------------------------------------------------------------------------\n",
      "FIN DE EJECUCIÓN\n"
     ]
    }
   ],
   "source": [
    "print(\"EDAD EN AÑOS-MESES-DÍAS\")\n",
    "print(100*'-')\n",
    "fecha_actual = dt.datetime.now()\n",
    "fecha = {'año':None, 'mes':None, 'día':None}\n",
    "flag = False\n",
    "meses = [month for month in range(1,13)]\n",
    "while True:\n",
    "    for key in fecha:\n",
    "        try:\n",
    "            fecha[key] = int(input(f\"Ingresa el {key} en que naciste: \"))\n",
    "            if key == 'año' and (fecha[key]<1900 or fecha[key]>fecha_actual.year):\n",
    "                print(\"Debes estar muerto o ser un viajero del tiempo 😨\\nIntenta de nuevo 😅\\n\")\n",
    "                break\n",
    "            elif key == 'mes' and fecha[key] not in meses:\n",
    "                print(\"Ingresa un número de mes válido 😖\\nIntentemos de nuevo 🥴\\n\")\n",
    "                break\n",
    "            elif key == 'día':\n",
    "                last_day = (dt.date(fecha['año'], fecha['mes'], 1) + relativedelta(months=1) - timedelta(days=1)).day\n",
    "                if fecha[key]<0 or fecha[key]>last_day:\n",
    "                    print(\"Ingresa un número de día válido 😓\\nIntentemos de nuevo 😤\\n\")\n",
    "                    break\n",
    "        except ValueError:\n",
    "            print(f\"El {key} debe ser un número entero 😐. No caracteres de texto.\")\n",
    "            continue\n",
    "    else:\n",
    "        flag = True\n",
    "    if flag:\n",
    "        break\n",
    "\n",
    "fecha_nac = dt.datetime(fecha['año'],fecha['mes'],fecha['día'])\n",
    "delta = relativedelta(fecha_actual,fecha_nac)\n",
    "delta_dias = (fecha_actual -fecha_nac).days\n",
    "print(f\"\\nTienes {delta.years} años\")\n",
    "print(f\"Que equivalen a {(delta.years*12 + delta.months):,} meses\")\n",
    "print(f\"Que equivalen a {delta_dias:,} días\\n\")\n",
    "print(f\"Y tu edad exacta es {delta.years} años con {delta.months} meses y {delta.days} días 🤭\")\n",
    "\n",
    "print(f\"{100*'-'}\\nFIN DE EJECUCIÓN\")"
   ]
  },
  {
   "cell_type": "markdown",
   "id": "b6edee82-a2f8-412d-9d7a-0e2c4414d80a",
   "metadata": {},
   "source": [
    "## Ejercicio 4"
   ]
  },
  {
   "cell_type": "code",
   "execution_count": 219,
   "id": "66037277-2c78-426c-bd91-5366ca371f8c",
   "metadata": {},
   "outputs": [],
   "source": [
    "def tuple2str(tupla):\n",
    "    tipo_dato = type(tupla)\n",
    "    if tipo_dato != type((1,)):\n",
    "        return f\"ERROR - Se debe ingresar un tipo de dato tuple no {tipo_dato}\"\n",
    "    string = \"\"\n",
    "    for elemento in tupla:\n",
    "        string += str(elemento)\n",
    "    return string"
   ]
  },
  {
   "cell_type": "code",
   "execution_count": 220,
   "id": "e01084ab-3d42-4869-95c6-ef65c92b0023",
   "metadata": {},
   "outputs": [
    {
     "data": {
      "text/plain": [
       "'102040570'"
      ]
     },
     "execution_count": 220,
     "metadata": {},
     "output_type": "execute_result"
    }
   ],
   "source": [
    "tuple2str((10,20,40,5,70))"
   ]
  },
  {
   "cell_type": "code",
   "execution_count": 224,
   "id": "6142dcf9-4a28-4dd0-9956-a0cb413cc5a2",
   "metadata": {},
   "outputs": [
    {
     "data": {
      "text/plain": [
       "'102040570'"
      ]
     },
     "execution_count": 224,
     "metadata": {},
     "output_type": "execute_result"
    }
   ],
   "source": [
    "tuple2str((\"10\",\"20\",\"40\",\"5\",\"70\"))"
   ]
  },
  {
   "cell_type": "code",
   "execution_count": 225,
   "id": "303d9326-4642-454c-90ba-8e62ea098251",
   "metadata": {},
   "outputs": [
    {
     "data": {
      "text/plain": [
       "'abc'"
      ]
     },
     "execution_count": 225,
     "metadata": {},
     "output_type": "execute_result"
    }
   ],
   "source": [
    "tuple2str(('a','b','c'))"
   ]
  },
  {
   "cell_type": "code",
   "execution_count": 226,
   "id": "4ce9ca1f-db49-4521-ae3f-a31a661a5f4c",
   "metadata": {},
   "outputs": [
    {
     "data": {
      "text/plain": [
       "\"ERROR - Se debe ingresar un tipo de dato tuple no <class 'str'>\""
      ]
     },
     "execution_count": 226,
     "metadata": {},
     "output_type": "execute_result"
    }
   ],
   "source": [
    "tuple2str(\"hola\")"
   ]
  },
  {
   "cell_type": "code",
   "execution_count": null,
   "id": "ccf9ee12-51be-4b3c-8daf-a98a0995a586",
   "metadata": {},
   "outputs": [],
   "source": []
  }
 ],
 "metadata": {
  "kernelspec": {
   "display_name": "Python 3 (ipykernel)",
   "language": "python",
   "name": "python3"
  },
  "language_info": {
   "codemirror_mode": {
    "name": "ipython",
    "version": 3
   },
   "file_extension": ".py",
   "mimetype": "text/x-python",
   "name": "python",
   "nbconvert_exporter": "python",
   "pygments_lexer": "ipython3",
   "version": "3.8.18"
  }
 },
 "nbformat": 4,
 "nbformat_minor": 5
}
