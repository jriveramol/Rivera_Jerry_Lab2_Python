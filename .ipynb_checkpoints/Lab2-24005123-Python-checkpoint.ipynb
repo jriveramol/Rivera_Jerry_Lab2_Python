{
 "cells": [
  {
   "cell_type": "markdown",
   "id": "7bf053cc-ed93-4f9f-8f8e-8e9242e1c7d3",
   "metadata": {},
   "source": [
    "# Lab 2 - Python"
   ]
  },
  {
   "cell_type": "markdown",
   "id": "178a31d6-8919-405b-a476-1ba29d58c18b",
   "metadata": {},
   "source": [
    "## Ejercicio 1"
   ]
  },
  {
   "cell_type": "code",
   "execution_count": 16,
   "id": "04a658dc-52bb-452b-bfa9-86f14a6a5391",
   "metadata": {},
   "outputs": [
    {
     "name": "stdout",
     "output_type": "stream",
     "text": [
      "CONVERTIDOR DE SEGUNDOS A FORMATO HH:MM:SS\n"
     ]
    },
    {
     "name": "stdin",
     "output_type": "stream",
     "text": [
      "Ingresa una cantidad de segundos o enter para abortar:  \n"
     ]
    },
    {
     "name": "stdout",
     "output_type": "stream",
     "text": [
      "Operación abortada.\n",
      "----------------------------------------------------------------------------------------------------\n",
      "FIN DE EJECUCIÓN\n"
     ]
    }
   ],
   "source": [
    "print(\"CONVERTIDOR DE SEGUNDOS A FORMATO HH:MM:SS\")\n",
    "while True:\n",
    "    segs = input(\"Ingresa una cantidad de segundos o enter para abortar: \")\n",
    "    if segs == \"\":\n",
    "        print(\"Operación abortada.\")\n",
    "        break\n",
    "    else:\n",
    "        try:\n",
    "            segs = int(segs)\n",
    "            hrs = segs//3600\n",
    "            mnts = segs%3600//60\n",
    "            segs = segs%(3600*60)\n",
    "            print(f\"Horas: {hrs}, Minutos: {mnts}, Segundos: {segs}\")\n",
    "            break\n",
    "        except ValueError:\n",
    "            print(\"El valor ingresado debe ser numérico, no caracteres de texto.\")\n",
    "print(f\"{100*'-'}\\nFIN DE EJECUCIÓN\")"
   ]
  },
  {
   "cell_type": "code",
   "execution_count": null,
   "id": "b31bf9fd-7c61-4a5c-8cbf-6922b843e9ce",
   "metadata": {},
   "outputs": [],
   "source": []
  }
 ],
 "metadata": {
  "kernelspec": {
   "display_name": "Python 3 (ipykernel)",
   "language": "python",
   "name": "python3"
  },
  "language_info": {
   "codemirror_mode": {
    "name": "ipython",
    "version": 3
   },
   "file_extension": ".py",
   "mimetype": "text/x-python",
   "name": "python",
   "nbconvert_exporter": "python",
   "pygments_lexer": "ipython3",
   "version": "3.8.18"
  }
 },
 "nbformat": 4,
 "nbformat_minor": 5
}
